{
 "cells": [
  {
   "cell_type": "markdown",
   "metadata": {},
   "source": [
    "### Modeling on the data obtained through the survey - 57 employees"
   ]
  },
  {
   "cell_type": "code",
   "execution_count": null,
   "metadata": {},
   "outputs": [],
   "source": [
    "#### importing the required packages\n",
    "import pandas as pd\n",
    "import numpy as np\n",
    "import pandas\n",
    "import seaborn as sns\n",
    "%matplotlib inline\n",
    "import matplotlib.pyplot as plt\n",
    "from collections import Counter\n",
    "\n",
    "from sklearn import preprocessing\n",
    "from sklearn.utils import resample\n",
    "from imblearn import over_sampling as os\n",
    "from imblearn.over_sampling import SMOTE\n",
    "from imblearn import pipeline as pl\n",
    "from imblearn.metrics import (geometric_mean_score,make_index_balanced_accuracy)\n",
    "from sklearn.metrics import recall_score\n",
    "from sklearn.ensemble import RandomForestClassifier,GradientBoostingClassifier\n",
    "from sklearn.naive_bayes import GaussianNB\n",
    "from sklearn import svm\n",
    "from xgboost.sklearn import XGBClassifier \n",
    "from sklearn import model_selection\n",
    "from sklearn.model_selection import cross_val_score\n",
    "\n",
    "from sklearn.feature_selection import RFE\n",
    "from sklearn.linear_model import LogisticRegression\n",
    "from sklearn import metrics\n",
    "from sklearn.cross_validation import train_test_split\n",
    "from sklearn.metrics import classification_report\n",
    "from sklearn.metrics import confusion_matrix\n",
    "from sklearn.metrics import accuracy_score\n",
    "\n",
    "from sklearn.metrics import roc_auc_score\n",
    "from sklearn.metrics import roc_curve,matthews_corrcoef"
   ]
  },
  {
   "cell_type": "code",
   "execution_count": null,
   "metadata": {
    "collapsed": true
   },
   "outputs": [],
   "source": [
    "hr_data = pd.read_excel('data/HR-Employee-Attrition.xlsx') #### read in the excel data\n",
    "val_data = pd.read_csv('data/Job Satisfaction Survey.csv') #### read in the survey data"
   ]
  },
  {
   "cell_type": "code",
   "execution_count": null,
   "metadata": {},
   "outputs": [],
   "source": [
    "val_data.head(4)"
   ]
  },
  {
   "cell_type": "code",
   "execution_count": null,
   "metadata": {
    "collapsed": true
   },
   "outputs": [],
   "source": [
    "# assigning columns names to the survey data\n",
    "val_data.columns = ['Timestamp','Age','BusinessTravel','Department','DistanceFromHome','Education','EducationField','EnvironmentSatisfaction',\n",
    "                   'Gender','JobInvolvement','JobRole','JobSatisfaction','MaritalStatus','MonthlyIncome','NumCompaniesWorked','OverTime',\n",
    "                   'PercentSalaryHike','PerformanceRating','RelationshipSatisfaction','StockOptionLevel','TotalWorkingYears','TrainingTimesLastYear',\n",
    "                   'WorkLifeBalance','YearsAtCompany','YearsInCurrentRole','YearsSinceLastPromotion','YearsWithCurrManager','n1','n2']"
   ]
  },
  {
   "cell_type": "code",
   "execution_count": null,
   "metadata": {},
   "outputs": [],
   "source": [
    "#val_data = val_data.drop(['n1','n2'],axis=1) # dropping unwanted columns\n",
    "#val_data.DistanceFromHome = val_data.DistanceFromHome.str.strip() # stripof white spaces "
   ]
  },
  {
   "cell_type": "code",
   "execution_count": null,
   "metadata": {},
   "outputs": [],
   "source": [
    "val_data.DistanceFromHome.value_counts()"
   ]
  },
  {
   "cell_type": "code",
   "execution_count": null,
   "metadata": {},
   "outputs": [],
   "source": [
    "# correcting error values\n",
    "#val_data.DistanceFromHome[val_data.DistanceFromHome == '0'] = '1'\n",
    "#val_data.DistanceFromHome[val_data.DistanceFromHome == '0.2'] = '1'\n",
    "#val_data.DistanceFromHome[val_data.DistanceFromHome == '3.5'] = '4'\n",
    "#val_data.DistanceFromHome[val_data.DistanceFromHome == '45 minutes'] = '30'\n",
    "#val_data.DistanceFromHome[val_data.DistanceFromHome == '4 miles'] = '4'\n",
    "#val_data.DistanceFromHome[val_data.DistanceFromHome == '500'] = '5'"
   ]
  },
  {
   "cell_type": "code",
   "execution_count": null,
   "metadata": {
    "collapsed": true
   },
   "outputs": [],
   "source": [
    "pandas.set_option('display.max_columns',None) # set the option to display all the columns of a dataframe...."
   ]
  },
  {
   "cell_type": "code",
   "execution_count": null,
   "metadata": {},
   "outputs": [],
   "source": [
    "cols_to_remove = ['EmployeeCount','Over18','StandardHours','EmployeeNumber','JobLevel','DailyRate','MonthlyRate','HourlyRate'] ### remove the unnecessary columns\n",
    "hr_data = hr_data.drop(hr_data[cols_to_remove],axis=1)\n",
    "len(hr_data.columns)"
   ]
  },
  {
   "cell_type": "code",
   "execution_count": null,
   "metadata": {},
   "outputs": [],
   "source": [
    "hr_data.shape"
   ]
  },
  {
   "cell_type": "code",
   "execution_count": null,
   "metadata": {},
   "outputs": [],
   "source": [
    "hr_data.columns"
   ]
  },
  {
   "cell_type": "code",
   "execution_count": null,
   "metadata": {},
   "outputs": [],
   "source": [
    "val_data.columns\n"
   ]
  },
  {
   "cell_type": "code",
   "execution_count": null,
   "metadata": {
    "collapsed": true
   },
   "outputs": [],
   "source": [
    "val_data['Attrition'] = 0 # adding the target variable column\n",
    "val_data = val_data.drop('Timestamp',axis=1) # drop the timestamp"
   ]
  },
  {
   "cell_type": "code",
   "execution_count": null,
   "metadata": {
    "collapsed": true
   },
   "outputs": [],
   "source": [
    "# creating a list of categorical variables\n",
    "cat_var = ['BusinessTravel','Department','Education','EducationField','EnvironmentSatisfaction','JobInvolvement','Gender','JobRole','JobSatisfaction',\n",
    "'MaritalStatus','OverTime','PerformanceRating','RelationshipSatisfaction','WorkLifeBalance','StockOptionLevel']\n",
    "# creating a list of numeric variables\n",
    "int_var = ['Age','DistanceFromHome','MonthlyIncome','NumCompaniesWorked','PercentSalaryHike','TotalWorkingYears',\n",
    "          'TrainingTimesLastYear','YearsAtCompany','YearsInCurrentRole','YearsSinceLastPromotion','YearsWithCurrManager']\n"
   ]
  },
  {
   "cell_type": "code",
   "execution_count": null,
   "metadata": {
    "collapsed": true
   },
   "outputs": [],
   "source": [
    "# converting the object data type to category dtype\n",
    "for var in cat_var:\n",
    "    hr_data[var] = hr_data[var].astype('category')\n",
    "    val_data[var] = val_data[var].astype('category')\n",
    "# converting into int data type\n",
    "for var in int_var:\n",
    "    val_data[var] = val_data[var].astype('int64')\n",
    "hr_data['Attrition'] = hr_data['Attrition'].astype('category')\n",
    "val_data['Attrition'] = val_data['Attrition'].astype('category')"
   ]
  },
  {
   "cell_type": "code",
   "execution_count": null,
   "metadata": {},
   "outputs": [],
   "source": [
    "val_data[~val_data.applymap(np.isreal).all(1)] ## irrelevant values in the dataframe"
   ]
  },
  {
   "cell_type": "code",
   "execution_count": null,
   "metadata": {},
   "outputs": [],
   "source": [
    "#val_data.PercentSalaryHike[val_data.PercentSalaryHike == 999999] = 9\n",
    "#val_data.MonthlyIncome[val_data.MonthlyIncome == 200000] = 16000\n",
    "#val_data.MonthlyIncome[val_data.MonthlyIncome == 60000] = 10000\n",
    "#val_data.MonthlyIncome[val_data.MonthlyIncome == 70000] = 7000\n",
    "#val_data.MonthlyIncome[val_data.MonthlyIncome == 47000] = 15000\n",
    "#val_data.MonthlyIncome[val_data.MonthlyIncome == 70000] = 6000\n",
    "#val_data.MonthlyIncome[val_data.MonthlyIncome == 1] = 4000\n",
    "#val_data.MonthlyIncome[val_data.MonthlyIncome == 50000] = 15000\n",
    "\n",
    "\n"
   ]
  },
  {
   "cell_type": "code",
   "execution_count": null,
   "metadata": {
    "collapsed": true
   },
   "outputs": [],
   "source": [
    "### creating a new dataframe with all categorical descriptions\n",
    "hr_desc = hr_data.copy()\n",
    "val_data1 = val_data.copy()"
   ]
  },
  {
   "cell_type": "code",
   "execution_count": null,
   "metadata": {
    "collapsed": true
   },
   "outputs": [],
   "source": [
    "#### mapping all data with those description so as to analyze\n",
    "Education_desc = {1 : 'Below College', 2 : 'College' , 3 : 'Bachelor' , 4 : 'Master' , 5 : 'Doctor'}\n",
    "EnvironmentSatisfaction_desc = {1 : 'Low' , 2 : 'Medium' , 3 : 'High' , 4 : 'Very High'}\n",
    "JobInvolvement_desc  = {1 : 'Low' , 2 : 'Medium' , 3 : 'High' ,4 : 'Very High'}\n",
    "JobSatisfaction_desc = {1 : 'Low' , 2 : 'Medium' , 3 : 'High' ,4 : 'Very High'}\n",
    "PerformanceRating_desc = {1 :'Low' , 2 : 'Good' , 3 : 'Excellent' , 4 : 'Outstanding'}\n",
    "RelationshipSatisfaction_desc  = {1 : 'Low' , 2 : 'Medium' , 3 : 'High' ,4 : 'Very High'}\n",
    "WorkLifeBalance_desc = {1 : 'Bad' , 2 : 'Good' , 3 : 'Better' ,4 : 'Best'}\n"
   ]
  },
  {
   "cell_type": "code",
   "execution_count": null,
   "metadata": {
    "collapsed": true
   },
   "outputs": [],
   "source": [
    "# mapping the numbers to its description \n",
    "hr_desc['Education'].replace(Education_desc,inplace=True)\n",
    "hr_desc['EnvironmentSatisfaction'] = hr_desc['EnvironmentSatisfaction'].map(EnvironmentSatisfaction_desc)\n",
    "hr_desc['JobInvolvement'] = hr_desc['JobInvolvement'].map(JobInvolvement_desc)\n",
    "hr_desc['JobSatisfaction'] = hr_desc['JobSatisfaction'].map(JobSatisfaction_desc)\n",
    "hr_desc['PerformanceRating'] = hr_desc['PerformanceRating'].map(PerformanceRating_desc)\n",
    "hr_desc['RelationshipSatisfaction'] = hr_desc['RelationshipSatisfaction'].map(RelationshipSatisfaction_desc)\n",
    "hr_desc['WorkLifeBalance'] = hr_desc['WorkLifeBalance'].map(WorkLifeBalance_desc)"
   ]
  },
  {
   "cell_type": "code",
   "execution_count": null,
   "metadata": {
    "collapsed": true
   },
   "outputs": [],
   "source": [
    "#mapping the numbers to its description\n",
    "val_data1['Education'].replace(Education_desc,inplace=True)\n",
    "val_data1['EnvironmentSatisfaction'] = hr_desc['EnvironmentSatisfaction'].map(EnvironmentSatisfaction_desc)\n",
    "val_data1['JobInvolvement'] = hr_desc['JobInvolvement'].map(JobInvolvement_desc)\n",
    "val_data1['JobSatisfaction'] = hr_desc['JobSatisfaction'].map(JobSatisfaction_desc)\n",
    "val_data1['PerformanceRating'] = hr_desc['PerformanceRating'].map(PerformanceRating_desc)\n",
    "val_data1['RelationshipSatisfaction'] = hr_desc['RelationshipSatisfaction'].map(RelationshipSatisfaction_desc)\n",
    "val_data1['WorkLifeBalance'] = hr_desc['WorkLifeBalance'].map(WorkLifeBalance_desc)"
   ]
  },
  {
   "cell_type": "code",
   "execution_count": null,
   "metadata": {
    "collapsed": true
   },
   "outputs": [],
   "source": [
    "obj_cols =hr_desc.select_dtypes(include=['object'])\n",
    "obj_cols1 =val_data1.select_dtypes(include=['object'])\n",
    "for var in obj_cols:\n",
    "    hr_desc[var] = hr_desc[var].astype('category') ### there are 17 categorical columns and 14 int columns\n",
    "for var1 in obj_cols1:\n",
    "    val_data1[var] = val_data1[var].astype('category')"
   ]
  },
  {
   "cell_type": "markdown",
   "metadata": {},
   "source": [
    "###  Pandas has a function which can turn a categorical variable into a series of zeros and ### ones, which makes them a lot easier to quantify and compare.(get_dummies)"
   ]
  },
  {
   "cell_type": "code",
   "execution_count": null,
   "metadata": {
    "collapsed": true
   },
   "outputs": [],
   "source": [
    "# creating dummies for cat columns   -- one hot encoding  \n",
    "for var in cat_var:\n",
    "    cat_list = 'var' + '_' +var\n",
    "    cat_list = pd.get_dummies(hr_desc[var],prefix=var)\n",
    "    hr1 =hr_desc.join(cat_list)\n",
    "    hr_desc = hr1\n",
    "# creating dummies for cat columns   -- one hot encoding  \n",
    "for var in cat_var:\n",
    "    cat_list = 'var' + '_' +var\n",
    "    cat_list = pd.get_dummies(val_data1[var],prefix=var)\n",
    "    hr1 =val_data1.join(cat_list)\n",
    "    val_data1 = hr1"
   ]
  },
  {
   "cell_type": "code",
   "execution_count": null,
   "metadata": {},
   "outputs": [],
   "source": [
    "len(hr_desc.columns)"
   ]
  },
  {
   "cell_type": "code",
   "execution_count": null,
   "metadata": {},
   "outputs": [],
   "source": [
    "len(val_data1.columns)"
   ]
  },
  {
   "cell_type": "code",
   "execution_count": null,
   "metadata": {},
   "outputs": [],
   "source": [
    "# creating a list of variables\n",
    "hr_vars=hr_desc.columns.values.tolist()\n",
    "to_keep=[i for i in hr_vars if i not in cat_var]\n",
    "print(len(hr_vars))\n",
    "print(len(to_keep))\n",
    "hr_final = hr_desc[to_keep] ## 18 columns dropped as dummies were created for them..\n",
    "hr_final_vars = hr_final.columns.values.tolist() # creating a list of final variables\n",
    "hr_final.Attrition = hr_final.Attrition.cat.codes\n",
    "\n",
    "# creating a list of variables\n",
    "hr_vars1=val_data1.columns.values.tolist()\n",
    "to_keep=[i for i in hr_vars1 if i not in cat_var]\n",
    "print(len(hr_vars1))\n",
    "print(len(to_keep))\n",
    "val_data1 = val_data1[to_keep] ## 18 columns dropped as dummies were created for them..\n",
    "val_data1_vars = val_data1.columns.values.tolist() # creating a list of final variables"
   ]
  },
  {
   "cell_type": "code",
   "execution_count": null,
   "metadata": {},
   "outputs": [],
   "source": [
    "hr_final.shape"
   ]
  },
  {
   "cell_type": "code",
   "execution_count": null,
   "metadata": {},
   "outputs": [],
   "source": [
    "val_data1.shape"
   ]
  },
  {
   "cell_type": "code",
   "execution_count": null,
   "metadata": {},
   "outputs": [],
   "source": [
    "\n",
    "#hr_final.Attrition = hr_final.Attrition.cat.codes"
   ]
  },
  {
   "cell_type": "code",
   "execution_count": null,
   "metadata": {},
   "outputs": [],
   "source": [
    "val_data1['Attrition'] = 0\n",
    "val_data1.Attrition = val_data1.Attrition.astype('category')"
   ]
  },
  {
   "cell_type": "code",
   "execution_count": 295,
   "metadata": {
    "collapsed": true
   },
   "outputs": [],
   "source": [
    "# match the columns of the survey data and train data\n",
    "drop_cols = [col for col in hr_final.columns if col not in val_data1.columns]\n",
    "hr_final2 = hr_final.drop(drop_cols,axis=1)\n",
    "drop_cols_val = [col for col in val_data1.columns if col not in hr_final2.columns]\n",
    "val_data2 = val_data1.drop(drop_cols_val,axis=1)"
   ]
  },
  {
   "cell_type": "code",
   "execution_count": 296,
   "metadata": {
    "collapsed": true
   },
   "outputs": [],
   "source": [
    "y = hr_final2['Attrition']\n",
    "X = hr_final2.drop('Attrition',axis=1) # excluding the target variable Attrition - 70 columns"
   ]
  },
  {
   "cell_type": "markdown",
   "metadata": {},
   "source": [
    "### normalizing the data before feature selection - min max scaler"
   ]
  },
  {
   "cell_type": "code",
   "execution_count": 297,
   "metadata": {
    "collapsed": true
   },
   "outputs": [],
   "source": [
    "val_data2 = val_data2.drop('Attrition',axis=1)"
   ]
  },
  {
   "cell_type": "code",
   "execution_count": 298,
   "metadata": {},
   "outputs": [],
   "source": [
    "# preprocessing the dataset \n",
    "min_max_scaler = preprocessing.MinMaxScaler()\n",
    "X_scaled = min_max_scaler.fit_transform(X)\n",
    "df_scaled = pandas.DataFrame(X_scaled) # convert into a dataframe\n",
    "df_scaled.columns = X.columns # assigning columns names\n"
   ]
  },
  {
   "cell_type": "code",
   "execution_count": 299,
   "metadata": {
    "collapsed": true
   },
   "outputs": [],
   "source": [
    "X_train, X_test, y_train, y_test = train_test_split(df_scaled, y ,test_size = .3,random_state=12) ### train test split the data first"
   ]
  },
  {
   "cell_type": "code",
   "execution_count": 300,
   "metadata": {},
   "outputs": [
    {
     "name": "stdout",
     "output_type": "stream",
     "text": [
      "[ True  True  True  True False  True  True  True  True  True  True  True\n",
      " False False False False False False False False False  True False  True\n",
      "  True False False False False False  True False False False  True  True\n",
      "  True  True  True False]\n",
      "[ 1  1  1  1 20  1  1  1  1  1  1  1  2 13 14  5 15  7 18  3 19  1 17  1  1\n",
      "  4  6 21 12  8  1 10 11 16  1  1  1  1  1  9]\n"
     ]
    }
   ],
   "source": [
    "logreg = LogisticRegression() ### instantiating a log reg classifier\n",
    "rfe = RFE(logreg)     \n",
    "rfe = rfe.fit(df_scaled , y)\n",
    "print(rfe.support_) ### the features selected by RFE\n",
    "print(rfe.ranking_) ### ranking for various features"
   ]
  },
  {
   "cell_type": "code",
   "execution_count": 301,
   "metadata": {},
   "outputs": [
    {
     "data": {
      "text/plain": [
       "20"
      ]
     },
     "execution_count": 301,
     "metadata": {},
     "output_type": "execute_result"
    }
   ],
   "source": [
    "rfe.n_features_ ### number of features selected by rfe is 20"
   ]
  },
  {
   "cell_type": "code",
   "execution_count": 302,
   "metadata": {
    "collapsed": true
   },
   "outputs": [],
   "source": [
    "### find the columns which has high ranking.... \n",
    "cols = df_scaled.loc[:,rfe.support_].columns.tolist()\n",
    "X = df_scaled[cols]   ### selected features of the model"
   ]
  },
  {
   "cell_type": "markdown",
   "metadata": {},
   "source": [
    "### upsampling technique"
   ]
  },
  {
   "cell_type": "code",
   "execution_count": 303,
   "metadata": {},
   "outputs": [
    {
     "name": "stdout",
     "output_type": "stream",
     "text": [
      "Original dataset shape Counter({0: 1233, 1: 237})\n",
      "upsampled data   : 1    863\n",
      "0    863\n",
      "Name: Attrition, dtype: int64\n"
     ]
    },
    {
     "name": "stderr",
     "output_type": "stream",
     "text": [
      "C:\\Users\\Suhasini\\Anaconda3\\lib\\site-packages\\ipykernel_launcher.py:4: SettingWithCopyWarning: \n",
      "A value is trying to be set on a copy of a slice from a DataFrame.\n",
      "Try using .loc[row_indexer,col_indexer] = value instead\n",
      "\n",
      "See the caveats in the documentation: http://pandas.pydata.org/pandas-docs/stable/indexing.html#indexing-view-versus-copy\n",
      "  after removing the cwd from sys.path.\n"
     ]
    }
   ],
   "source": [
    "X_train, X_test, y_train, y_test = train_test_split(X, y ,test_size = .3,random_state=12)\n",
    "print('Original dataset shape {}'.format(Counter(y)))\n",
    "train_data = X_train ## upsampling done on the training data to avoid leakage.. \n",
    "train_data['Attrition'] = y_train\n",
    "### train_data needs to be upsampled...\n",
    "\n",
    "train_data_majority = train_data[train_data.Attrition == 0]\n",
    "train_data_minority = train_data[train_data.Attrition==1]\n",
    "\n",
    "\n",
    "\n",
    "# Upsample minority class\n",
    "train_data_minority_upsampled = resample(train_data_minority, \n",
    "                                 replace=True,     # sample with replacement\n",
    "                                 n_samples=863,    # to match majority class\n",
    "                                 random_state=123) # reproducible results\n",
    "\n",
    "# Combine majority class with upsampled minority class\n",
    "train_upsampled = pd.concat([train_data_majority, train_data_minority_upsampled])\n",
    "\n",
    "train_upsampled.Attrition.value_counts()\n",
    "\n",
    "print(\"upsampled data   :\" , train_upsampled.Attrition.value_counts())\n",
    "\n",
    "### split the training set again\n",
    "# Separate input features (X) and target variable (y)\n",
    "X_train = train_upsampled.drop('Attrition' , axis=1)\n",
    "y_train = train_upsampled.Attrition\n",
    "\n"
   ]
  },
  {
   "cell_type": "code",
   "execution_count": 304,
   "metadata": {
    "collapsed": true
   },
   "outputs": [],
   "source": [
    "###I transform trainset and use calculations on the testset\n",
    "### I need to transform validation set by  using calculations on the trainset \n",
    "val_data2_scaled = min_max_scaler.transform(val_data2)"
   ]
  },
  {
   "cell_type": "code",
   "execution_count": 305,
   "metadata": {},
   "outputs": [],
   "source": [
    "df_val_scaled = pandas.DataFrame(val_data2_scaled)\n",
    "#df_val_scaled.columns = df_scaled.columns"
   ]
  },
  {
   "cell_type": "code",
   "execution_count": 306,
   "metadata": {},
   "outputs": [],
   "source": [
    "X_cols = X.columns"
   ]
  },
  {
   "cell_type": "code",
   "execution_count": 307,
   "metadata": {},
   "outputs": [
    {
     "data": {
      "text/plain": [
       "Index(['Age', 'DistanceFromHome', 'MonthlyIncome', 'NumCompaniesWorked',\n",
       "       'TotalWorkingYears', 'TrainingTimesLastYear', 'YearsAtCompany',\n",
       "       'YearsInCurrentRole', 'YearsSinceLastPromotion', 'YearsWithCurrManager',\n",
       "       'BusinessTravel_Travel_Frequently', 'EducationField_Life Sciences',\n",
       "       'EducationField_Medical', 'EducationField_Other',\n",
       "       'JobRole_Research Scientist', 'OverTime_No', 'OverTime_Yes',\n",
       "       'StockOptionLevel_0', 'StockOptionLevel_1', 'StockOptionLevel_2'],\n",
       "      dtype='object')"
      ]
     },
     "execution_count": 307,
     "metadata": {},
     "output_type": "execute_result"
    }
   ],
   "source": [
    "X_cols"
   ]
  },
  {
   "cell_type": "code",
   "execution_count": 308,
   "metadata": {},
   "outputs": [
    {
     "data": {
      "text/plain": [
       "40"
      ]
     },
     "execution_count": 308,
     "metadata": {},
     "output_type": "execute_result"
    }
   ],
   "source": [
    "len(val_data2.columns)"
   ]
  },
  {
   "cell_type": "code",
   "execution_count": 310,
   "metadata": {},
   "outputs": [],
   "source": [
    "df_val_scaled.columns = val_data2.columns # assigninig columns names"
   ]
  },
  {
   "cell_type": "code",
   "execution_count": 311,
   "metadata": {},
   "outputs": [],
   "source": [
    "df_val_scaled = df_val_scaled[X_cols]"
   ]
  },
  {
   "cell_type": "code",
   "execution_count": 312,
   "metadata": {},
   "outputs": [
    {
     "data": {
      "text/plain": [
       "20"
      ]
     },
     "execution_count": 312,
     "metadata": {},
     "output_type": "execute_result"
    }
   ],
   "source": [
    "len(df_val_scaled.columns)"
   ]
  },
  {
   "cell_type": "code",
   "execution_count": 313,
   "metadata": {},
   "outputs": [
    {
     "name": "stdout",
     "output_type": "stream",
     "text": [
      "accuracy of logistic regression classifier on test set : 0.76\n",
      "---------------\n",
      "Evaluate model accuracy : 0.761904761905\n",
      "---------------\n",
      "matthews coefficient :  0.396283616846\n",
      "---------------\n",
      "             precision    recall  f1-score   support\n",
      "\n",
      "          0       0.94      0.77      0.84       370\n",
      "          1       0.38      0.73      0.50        71\n",
      "\n",
      "avg / total       0.85      0.76      0.79       441\n",
      "\n",
      "---------------\n",
      "roc auc score  :  0.813856109631\n",
      "----------------\n",
      "cross validate scores :  [ 0.84269438  0.77576932  0.76460958  0.8141901   0.85073012]\n",
      "------------------\n",
      "Experiment Data Predictions--- [0 1 1 1 1 1 1 1 0 0 0 1 1 1 1 1 1 1 1 1 1 0 0 1 0 1 1 1 1 1 1 1 1 1 1 1 1\n",
      " 0 1 0 0 0 0 0 1 0 1 1 1 1 1 1 1 1 1 0 1]\n"
     ]
    }
   ],
   "source": [
    "lg_model = logreg.fit(X_train,y_train) # fit on the training data\n",
    "y_pred = logreg.predict(X_test) # predict on the hold out set ..\n",
    "y_pred_exp_data = logreg.predict(df_val_scaled)\n",
    "\n",
    "\n",
    "print(\"accuracy of logistic regression classifier on test set : {:.2f}\".format(logreg.score(X_test,y_test)))\n",
    "print(\"---------------\")\n",
    "print(\"Evaluate model accuracy :\" , accuracy_score(y_test,y_pred))\n",
    "print(\"---------------\")\n",
    "print(\"matthews coefficient : \" , matthews_corrcoef(y_test,y_pred))\n",
    "print(\"---------------\")\n",
    "print(classification_report(y_test,y_pred))\n",
    "print(\"---------------\")\n",
    "y_pred_proba = logreg.predict_proba(X_test)[:,1]\n",
    "print(\"roc auc score  : \" , roc_auc_score(y_test,y_pred_proba) )\n",
    "\n",
    "print(\"----------------\")\n",
    "cv_scores = cross_val_score(logreg,X_train,y_train,cv=5,scoring='roc_auc')\n",
    "print(\"cross validate scores : \" , cv_scores)\n",
    "print(\"------------------\")\n",
    "\n",
    "print(\"Experiment Data Predictions---\", y_pred_exp_data)\n",
    "\n"
   ]
  },
  {
   "cell_type": "code",
   "execution_count": 314,
   "metadata": {},
   "outputs": [
    {
     "data": {
      "text/plain": [
       "42"
      ]
     },
     "execution_count": 314,
     "metadata": {},
     "output_type": "execute_result"
    }
   ],
   "source": [
    "sum(y_pred_exp_data)"
   ]
  },
  {
   "cell_type": "code",
   "execution_count": 315,
   "metadata": {},
   "outputs": [
    {
     "data": {
      "text/plain": [
       "array([0, 1, 1, 1, 1, 1, 1, 1, 0, 0, 0, 1, 1, 1, 1, 1, 1, 1, 1, 1, 1, 0, 0,\n",
       "       1, 0, 1, 1, 1, 1, 1, 1, 1, 1, 1, 1, 1, 1, 0, 1, 0, 0, 0, 0, 0, 1, 0,\n",
       "       1, 1, 1, 1, 1, 1, 1, 1, 1, 0, 1], dtype=int8)"
      ]
     },
     "execution_count": 315,
     "metadata": {},
     "output_type": "execute_result"
    }
   ],
   "source": [
    "y_pred_exp_data"
   ]
  },
  {
   "cell_type": "code",
   "execution_count": 317,
   "metadata": {},
   "outputs": [
    {
     "name": "stderr",
     "output_type": "stream",
     "text": [
      "C:\\Users\\Suhasini\\Anaconda3\\lib\\site-packages\\ipykernel_launcher.py:2: SettingWithCopyWarning: \n",
      "A value is trying to be set on a copy of a slice from a DataFrame.\n",
      "Try using .loc[row_indexer,col_indexer] = value instead\n",
      "\n",
      "See the caveats in the documentation: http://pandas.pydata.org/pandas-docs/stable/indexing.html#indexing-view-versus-copy\n",
      "  \n"
     ]
    }
   ],
   "source": [
    "s = pandas.Series(y_pred_exp_data)\n",
    "df_val_scaled['Attrition'] = s"
   ]
  },
  {
   "cell_type": "code",
   "execution_count": 318,
   "metadata": {},
   "outputs": [
    {
     "data": {
      "text/html": [
       "<div>\n",
       "<style>\n",
       "    .dataframe thead tr:only-child th {\n",
       "        text-align: right;\n",
       "    }\n",
       "\n",
       "    .dataframe thead th {\n",
       "        text-align: left;\n",
       "    }\n",
       "\n",
       "    .dataframe tbody tr th {\n",
       "        vertical-align: top;\n",
       "    }\n",
       "</style>\n",
       "<table border=\"1\" class=\"dataframe\">\n",
       "  <thead>\n",
       "    <tr style=\"text-align: right;\">\n",
       "      <th></th>\n",
       "      <th>Age</th>\n",
       "      <th>DistanceFromHome</th>\n",
       "      <th>MonthlyIncome</th>\n",
       "      <th>NumCompaniesWorked</th>\n",
       "      <th>TotalWorkingYears</th>\n",
       "      <th>TrainingTimesLastYear</th>\n",
       "      <th>YearsAtCompany</th>\n",
       "      <th>YearsInCurrentRole</th>\n",
       "      <th>YearsSinceLastPromotion</th>\n",
       "      <th>YearsWithCurrManager</th>\n",
       "      <th>BusinessTravel_Travel_Frequently</th>\n",
       "      <th>EducationField_Life Sciences</th>\n",
       "      <th>EducationField_Medical</th>\n",
       "      <th>EducationField_Other</th>\n",
       "      <th>JobRole_Research Scientist</th>\n",
       "      <th>OverTime_No</th>\n",
       "      <th>OverTime_Yes</th>\n",
       "      <th>StockOptionLevel_0</th>\n",
       "      <th>StockOptionLevel_1</th>\n",
       "      <th>StockOptionLevel_2</th>\n",
       "      <th>Attrition</th>\n",
       "    </tr>\n",
       "  </thead>\n",
       "  <tbody>\n",
       "    <tr>\n",
       "      <th>0</th>\n",
       "      <td>0.595238</td>\n",
       "      <td>0.178571</td>\n",
       "      <td>0.368141</td>\n",
       "      <td>0.111111</td>\n",
       "      <td>0.500</td>\n",
       "      <td>0.500000</td>\n",
       "      <td>0.250</td>\n",
       "      <td>0.277778</td>\n",
       "      <td>0.266667</td>\n",
       "      <td>0.588235</td>\n",
       "      <td>0.0</td>\n",
       "      <td>0.0</td>\n",
       "      <td>0.0</td>\n",
       "      <td>1.0</td>\n",
       "      <td>0.0</td>\n",
       "      <td>1.0</td>\n",
       "      <td>0.0</td>\n",
       "      <td>1.0</td>\n",
       "      <td>0.0</td>\n",
       "      <td>0.0</td>\n",
       "      <td>0</td>\n",
       "    </tr>\n",
       "    <tr>\n",
       "      <th>1</th>\n",
       "      <td>0.142857</td>\n",
       "      <td>0.107143</td>\n",
       "      <td>0.157504</td>\n",
       "      <td>0.222222</td>\n",
       "      <td>0.075</td>\n",
       "      <td>0.166667</td>\n",
       "      <td>0.025</td>\n",
       "      <td>0.055556</td>\n",
       "      <td>0.000000</td>\n",
       "      <td>0.058824</td>\n",
       "      <td>0.0</td>\n",
       "      <td>0.0</td>\n",
       "      <td>0.0</td>\n",
       "      <td>1.0</td>\n",
       "      <td>0.0</td>\n",
       "      <td>0.0</td>\n",
       "      <td>1.0</td>\n",
       "      <td>1.0</td>\n",
       "      <td>0.0</td>\n",
       "      <td>0.0</td>\n",
       "      <td>1</td>\n",
       "    </tr>\n",
       "    <tr>\n",
       "      <th>2</th>\n",
       "      <td>0.404762</td>\n",
       "      <td>1.035714</td>\n",
       "      <td>0.473460</td>\n",
       "      <td>0.666667</td>\n",
       "      <td>0.425</td>\n",
       "      <td>0.500000</td>\n",
       "      <td>0.325</td>\n",
       "      <td>0.111111</td>\n",
       "      <td>0.133333</td>\n",
       "      <td>0.058824</td>\n",
       "      <td>0.0</td>\n",
       "      <td>0.0</td>\n",
       "      <td>0.0</td>\n",
       "      <td>1.0</td>\n",
       "      <td>0.0</td>\n",
       "      <td>1.0</td>\n",
       "      <td>0.0</td>\n",
       "      <td>1.0</td>\n",
       "      <td>0.0</td>\n",
       "      <td>0.0</td>\n",
       "      <td>1</td>\n",
       "    </tr>\n",
       "    <tr>\n",
       "      <th>3</th>\n",
       "      <td>0.523810</td>\n",
       "      <td>1.392857</td>\n",
       "      <td>0.183834</td>\n",
       "      <td>1.111111</td>\n",
       "      <td>0.625</td>\n",
       "      <td>0.500000</td>\n",
       "      <td>0.050</td>\n",
       "      <td>0.111111</td>\n",
       "      <td>0.000000</td>\n",
       "      <td>0.117647</td>\n",
       "      <td>0.0</td>\n",
       "      <td>0.0</td>\n",
       "      <td>0.0</td>\n",
       "      <td>0.0</td>\n",
       "      <td>0.0</td>\n",
       "      <td>0.0</td>\n",
       "      <td>1.0</td>\n",
       "      <td>0.0</td>\n",
       "      <td>1.0</td>\n",
       "      <td>0.0</td>\n",
       "      <td>1</td>\n",
       "    </tr>\n",
       "  </tbody>\n",
       "</table>\n",
       "</div>"
      ],
      "text/plain": [
       "        Age  DistanceFromHome  MonthlyIncome  NumCompaniesWorked  \\\n",
       "0  0.595238          0.178571       0.368141            0.111111   \n",
       "1  0.142857          0.107143       0.157504            0.222222   \n",
       "2  0.404762          1.035714       0.473460            0.666667   \n",
       "3  0.523810          1.392857       0.183834            1.111111   \n",
       "\n",
       "   TotalWorkingYears  TrainingTimesLastYear  YearsAtCompany  \\\n",
       "0              0.500               0.500000           0.250   \n",
       "1              0.075               0.166667           0.025   \n",
       "2              0.425               0.500000           0.325   \n",
       "3              0.625               0.500000           0.050   \n",
       "\n",
       "   YearsInCurrentRole  YearsSinceLastPromotion  YearsWithCurrManager  \\\n",
       "0            0.277778                 0.266667              0.588235   \n",
       "1            0.055556                 0.000000              0.058824   \n",
       "2            0.111111                 0.133333              0.058824   \n",
       "3            0.111111                 0.000000              0.117647   \n",
       "\n",
       "   BusinessTravel_Travel_Frequently  EducationField_Life Sciences  \\\n",
       "0                               0.0                           0.0   \n",
       "1                               0.0                           0.0   \n",
       "2                               0.0                           0.0   \n",
       "3                               0.0                           0.0   \n",
       "\n",
       "   EducationField_Medical  EducationField_Other  JobRole_Research Scientist  \\\n",
       "0                     0.0                   1.0                         0.0   \n",
       "1                     0.0                   1.0                         0.0   \n",
       "2                     0.0                   1.0                         0.0   \n",
       "3                     0.0                   0.0                         0.0   \n",
       "\n",
       "   OverTime_No  OverTime_Yes  StockOptionLevel_0  StockOptionLevel_1  \\\n",
       "0          1.0           0.0                 1.0                 0.0   \n",
       "1          0.0           1.0                 1.0                 0.0   \n",
       "2          1.0           0.0                 1.0                 0.0   \n",
       "3          0.0           1.0                 0.0                 1.0   \n",
       "\n",
       "   StockOptionLevel_2  Attrition  \n",
       "0                 0.0          0  \n",
       "1                 0.0          1  \n",
       "2                 0.0          1  \n",
       "3                 0.0          1  "
      ]
     },
     "execution_count": 318,
     "metadata": {},
     "output_type": "execute_result"
    }
   ],
   "source": [
    "df_val_scaled.head(4)"
   ]
  },
  {
   "cell_type": "code",
   "execution_count": 319,
   "metadata": {},
   "outputs": [
    {
     "data": {
      "image/png": "[encoded data removed]",
      "text/plain": [
       "<matplotlib.figure.Figure at 0x17f07897908>"
      ]
     },
     "metadata": {},
     "output_type": "display_data"
    }
   ],
   "source": [
    "g =sns.FacetGrid(data=hr_desc,col='Gender',hue='Attrition');\n",
    "g.map(plt.scatter,'MonthlyIncome','Age',alpha=0.3);"
   ]
  },
  {
   "cell_type": "code",
   "execution_count": 320,
   "metadata": {},
   "outputs": [],
   "source": [
    "val_data['Attrition'] = y_pred_exp_data"
   ]
  },
  {
   "cell_type": "code",
   "execution_count": 322,
   "metadata": {},
   "outputs": [
    {
     "data": {
      "image/png": "[encoded data removed]",
      "text/plain": [
       "<matplotlib.figure.Figure at 0x17f07c40080>"
      ]
     },
     "metadata": {},
     "output_type": "display_data"
    }
   ],
   "source": [
    "g =sns.FacetGrid(data=val_data,col='Gender',hue='Attrition',legend_out=True);\n",
    "g=(g.map(plt.scatter,'Age','MonthlyIncome').add_legend());\n",
    "plt.savefig('survey_data_pred')"
   ]
  },
  {
   "cell_type": "code",
   "execution_count": 338,
   "metadata": {
    "collapsed": true
   },
   "outputs": [],
   "source": [
    "### Employees who are 30 year male in the survey data seem to resign .... "
   ]
  },
  {
   "cell_type": "code",
   "execution_count": 336,
   "metadata": {},
   "outputs": [
    {
     "data": {
      "image/png": "[encoded data removed]",
      "text/plain": [
       "<matplotlib.figure.Figure at 0x17f09a72588>"
      ]
     },
     "metadata": {},
     "output_type": "display_data"
    }
   ],
   "source": [
    "sns.factorplot(data=val_data,x='TrainingTimesLastYear',y='Age', hue ='Gender',col = 'Attrition',kind='swarm');\n",
    "plt.savefig('TrainingTimesvsAge_valdata')"
   ]
  },
  {
   "cell_type": "markdown",
   "metadata": {},
   "source": [
    "## It looks employees need more training in order to stick to ther jobs"
   ]
  },
  {
   "cell_type": "code",
   "execution_count": null,
   "metadata": {
    "collapsed": true
   },
   "outputs": [],
   "source": []
  }
 ],
 "metadata": {
  "kernelspec": {
   "display_name": "Python 3",
   "language": "python",
   "name": "python3"
  },
  "language_info": {
   "codemirror_mode": {
    "name": "ipython",
    "version": 3
   },
   "file_extension": ".py",
   "mimetype": "text/x-python",
   "name": "python",
   "nbconvert_exporter": "python",
   "pygments_lexer": "ipython3",
   "version": "3.6.2"
  }
 },
 "nbformat": 4,
 "nbformat_minor": 2
}
