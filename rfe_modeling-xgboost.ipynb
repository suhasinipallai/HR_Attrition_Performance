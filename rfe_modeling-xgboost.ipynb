{
 "cells": [
  {
   "cell_type": "markdown",
   "metadata": {},
   "source": [
    "### Employee Attrition and Performance Analysis"
   ]
  },
  {
   "cell_type": "markdown",
   "metadata": {},
   "source": [
    "#### importing the required packages"
   ]
  },
  {
   "cell_type": "code",
   "execution_count": null,
   "metadata": {},
   "outputs": [],
   "source": [
    "import pandas as pd\n",
    "import numpy as np\n",
    "import pandas\n",
    "import seaborn as sns\n",
    "%matplotlib inline\n",
    "import matplotlib.pyplot as plt\n",
    "from collections import Counter\n",
    "\n",
    "from sklearn import preprocessing\n",
    "from sklearn.utils import resample\n",
    "from imblearn import over_sampling as os\n",
    "from imblearn.over_sampling import SMOTE\n",
    "from imblearn import pipeline as pl\n",
    "from imblearn.metrics import (geometric_mean_score,make_index_balanced_accuracy)\n",
    "from sklearn.metrics import recall_score\n",
    "from sklearn.ensemble import RandomForestClassifier,GradientBoostingClassifier\n",
    "from sklearn.naive_bayes import GaussianNB\n",
    "from sklearn import svm\n",
    "from xgboost.sklearn import XGBClassifier \n",
    "from sklearn import model_selection\n",
    "from sklearn.model_selection import cross_val_score\n",
    "\n",
    "\n",
    "from sklearn.metrics import auc\n",
    "from sklearn.feature_selection import RFE\n",
    "from sklearn.linear_model import LogisticRegression\n",
    "from sklearn import metrics\n",
    "from sklearn.cross_validation import train_test_split\n",
    "from sklearn.metrics import classification_report\n",
    "from sklearn.metrics import confusion_matrix\n",
    "from sklearn.metrics import accuracy_score\n",
    "\n",
    "from sklearn.metrics import roc_auc_score\n",
    "from sklearn.metrics import roc_curve,matthews_corrcoef"
   ]
  },
  {
   "cell_type": "markdown",
   "metadata": {},
   "source": [
    "#### read in the excel data"
   ]
  },
  {
   "cell_type": "code",
   "execution_count": null,
   "metadata": {
    "collapsed": true
   },
   "outputs": [],
   "source": [
    "hr_data = pd.read_excel('data/HR-Employee-Attrition.xlsx')"
   ]
  },
  {
   "cell_type": "code",
   "execution_count": null,
   "metadata": {},
   "outputs": [],
   "source": [
    "print(hr_data.shape)\n",
    "print(hr_data.columns)"
   ]
  },
  {
   "cell_type": "code",
   "execution_count": null,
   "metadata": {},
   "outputs": [],
   "source": [
    "hr_data.head(4)"
   ]
  },
  {
   "cell_type": "code",
   "execution_count": null,
   "metadata": {
    "collapsed": true
   },
   "outputs": [],
   "source": [
    "pandas.set_option('display.max_columns',None) # set the option to display all the columns of a dataframe...."
   ]
  },
  {
   "cell_type": "code",
   "execution_count": 6,
   "metadata": {},
   "outputs": [
    {
     "data": {
      "text/plain": [
       "30"
      ]
     },
     "execution_count": 6,
     "metadata": {},
     "output_type": "execute_result"
    }
   ],
   "source": [
    "cols_to_remove = ['EmployeeCount','Over18','StandardHours','EmployeeNumber','JobLevel'] ### remove the unnecessary columns\n",
    "hr_data = hr_data.drop(hr_data[cols_to_remove],axis=1)\n",
    "len(hr_data.columns)"
   ]
  },
  {
   "cell_type": "code",
   "execution_count": 7,
   "metadata": {
    "collapsed": true
   },
   "outputs": [],
   "source": [
    "# creating a list of categorical variables\n",
    "cat_var = ['BusinessTravel','Department','Education','EducationField','EnvironmentSatisfaction','JobInvolvement','Gender','JobRole','JobSatisfaction',\n",
    "'MaritalStatus','OverTime','PerformanceRating','RelationshipSatisfaction','WorkLifeBalance','StockOptionLevel']"
   ]
  },
  {
   "cell_type": "code",
   "execution_count": 8,
   "metadata": {
    "collapsed": true
   },
   "outputs": [],
   "source": [
    "# converting the object data type to category dtype\n",
    "for var in cat_var:\n",
    "    hr_data[var] = hr_data[var].astype('category')"
   ]
  },
  {
   "cell_type": "code",
   "execution_count": 9,
   "metadata": {
    "collapsed": true
   },
   "outputs": [],
   "source": [
    "### creating a new dataframe with all categorical descriptions\n",
    "hr_desc = hr_data.copy()"
   ]
  },
  {
   "cell_type": "code",
   "execution_count": 10,
   "metadata": {
    "collapsed": true
   },
   "outputs": [],
   "source": [
    "#### mapping all data with those description so as to analyze\n",
    "Education_desc = {1 : 'Below College', 2 : 'College' , 3 : 'Bachelor' , 4 : 'Master' , 5 : 'Doctor'}\n",
    "EnvironmentSatisfaction_desc = {1 : 'Low' , 2 : 'Medium' , 3 : 'High' , 4 : 'Very High'}\n",
    "JobInvolvement_desc  = {1 : 'Low' , 2 : 'Medium' , 3 : 'High' ,4 : 'Very High'}\n",
    "JobSatisfaction_desc = {1 : 'Low' , 2 : 'Medium' , 3 : 'High' ,4 : 'Very High'}\n",
    "PerformanceRating_desc = {1 :'Low' , 2 : 'Good' , 3 : 'Excellent' , 4 : 'Outstanding'}\n",
    "RelationshipSatisfaction_desc  = {1 : 'Low' , 2 : 'Medium' , 3 : 'High' ,4 : 'Very High'}\n",
    "WorkLifeBalance_desc = {1 : 'Bad' , 2 : 'Good' , 3 : 'Better' ,4 : 'Best'}\n"
   ]
  },
  {
   "cell_type": "code",
   "execution_count": 11,
   "metadata": {
    "collapsed": true
   },
   "outputs": [],
   "source": [
    "hr_desc['Education'].replace(Education_desc,inplace=True)\n",
    "hr_desc['EnvironmentSatisfaction'] = hr_desc['EnvironmentSatisfaction'].map(EnvironmentSatisfaction_desc)\n",
    "hr_desc['JobInvolvement'] = hr_desc['JobInvolvement'].map(JobInvolvement_desc)\n",
    "hr_desc['JobSatisfaction'] = hr_desc['JobSatisfaction'].map(JobSatisfaction_desc)\n",
    "hr_desc['PerformanceRating'] = hr_desc['PerformanceRating'].map(PerformanceRating_desc)\n",
    "hr_desc['RelationshipSatisfaction'] = hr_desc['RelationshipSatisfaction'].map(RelationshipSatisfaction_desc)\n",
    "hr_desc['WorkLifeBalance'] = hr_desc['WorkLifeBalance'].map(WorkLifeBalance_desc)"
   ]
  },
  {
   "cell_type": "code",
   "execution_count": 12,
   "metadata": {
    "collapsed": true
   },
   "outputs": [],
   "source": [
    "obj_cols =hr_desc.select_dtypes(include=['object'])"
   ]
  },
  {
   "cell_type": "code",
   "execution_count": 13,
   "metadata": {
    "collapsed": true
   },
   "outputs": [],
   "source": [
    "for var in obj_cols:\n",
    "    hr_desc[var] = hr_desc[var].astype('category') ### there are 17 categorical columns and 14 int columns"
   ]
  },
  {
   "cell_type": "code",
   "execution_count": 14,
   "metadata": {},
   "outputs": [
    {
     "data": {
      "text/html": [
       "<div>\n",
       "<style>\n",
       "    .dataframe thead tr:only-child th {\n",
       "        text-align: right;\n",
       "    }\n",
       "\n",
       "    .dataframe thead th {\n",
       "        text-align: left;\n",
       "    }\n",
       "\n",
       "    .dataframe tbody tr th {\n",
       "        vertical-align: top;\n",
       "    }\n",
       "</style>\n",
       "<table border=\"1\" class=\"dataframe\">\n",
       "  <thead>\n",
       "    <tr style=\"text-align: right;\">\n",
       "      <th></th>\n",
       "      <th>Age</th>\n",
       "      <th>Attrition</th>\n",
       "      <th>BusinessTravel</th>\n",
       "      <th>DailyRate</th>\n",
       "      <th>Department</th>\n",
       "      <th>DistanceFromHome</th>\n",
       "      <th>Education</th>\n",
       "      <th>EducationField</th>\n",
       "      <th>EnvironmentSatisfaction</th>\n",
       "      <th>Gender</th>\n",
       "      <th>HourlyRate</th>\n",
       "      <th>JobInvolvement</th>\n",
       "      <th>JobRole</th>\n",
       "      <th>JobSatisfaction</th>\n",
       "      <th>MaritalStatus</th>\n",
       "      <th>MonthlyIncome</th>\n",
       "      <th>MonthlyRate</th>\n",
       "      <th>NumCompaniesWorked</th>\n",
       "      <th>OverTime</th>\n",
       "      <th>PercentSalaryHike</th>\n",
       "      <th>PerformanceRating</th>\n",
       "      <th>RelationshipSatisfaction</th>\n",
       "      <th>StockOptionLevel</th>\n",
       "      <th>TotalWorkingYears</th>\n",
       "      <th>TrainingTimesLastYear</th>\n",
       "      <th>WorkLifeBalance</th>\n",
       "      <th>YearsAtCompany</th>\n",
       "      <th>YearsInCurrentRole</th>\n",
       "      <th>YearsSinceLastPromotion</th>\n",
       "      <th>YearsWithCurrManager</th>\n",
       "    </tr>\n",
       "  </thead>\n",
       "  <tbody>\n",
       "    <tr>\n",
       "      <th>0</th>\n",
       "      <td>41</td>\n",
       "      <td>Yes</td>\n",
       "      <td>Travel_Rarely</td>\n",
       "      <td>1102</td>\n",
       "      <td>Sales</td>\n",
       "      <td>1</td>\n",
       "      <td>College</td>\n",
       "      <td>Life Sciences</td>\n",
       "      <td>Medium</td>\n",
       "      <td>Female</td>\n",
       "      <td>94</td>\n",
       "      <td>High</td>\n",
       "      <td>Sales Executive</td>\n",
       "      <td>Very High</td>\n",
       "      <td>Single</td>\n",
       "      <td>5993</td>\n",
       "      <td>19479</td>\n",
       "      <td>8</td>\n",
       "      <td>Yes</td>\n",
       "      <td>11</td>\n",
       "      <td>Excellent</td>\n",
       "      <td>Low</td>\n",
       "      <td>0</td>\n",
       "      <td>8</td>\n",
       "      <td>0</td>\n",
       "      <td>Bad</td>\n",
       "      <td>6</td>\n",
       "      <td>4</td>\n",
       "      <td>0</td>\n",
       "      <td>5</td>\n",
       "    </tr>\n",
       "    <tr>\n",
       "      <th>1</th>\n",
       "      <td>49</td>\n",
       "      <td>No</td>\n",
       "      <td>Travel_Frequently</td>\n",
       "      <td>279</td>\n",
       "      <td>Research &amp; Development</td>\n",
       "      <td>8</td>\n",
       "      <td>Below College</td>\n",
       "      <td>Life Sciences</td>\n",
       "      <td>High</td>\n",
       "      <td>Male</td>\n",
       "      <td>61</td>\n",
       "      <td>Medium</td>\n",
       "      <td>Research Scientist</td>\n",
       "      <td>Medium</td>\n",
       "      <td>Married</td>\n",
       "      <td>5130</td>\n",
       "      <td>24907</td>\n",
       "      <td>1</td>\n",
       "      <td>No</td>\n",
       "      <td>23</td>\n",
       "      <td>Outstanding</td>\n",
       "      <td>Very High</td>\n",
       "      <td>1</td>\n",
       "      <td>10</td>\n",
       "      <td>3</td>\n",
       "      <td>Better</td>\n",
       "      <td>10</td>\n",
       "      <td>7</td>\n",
       "      <td>1</td>\n",
       "      <td>7</td>\n",
       "    </tr>\n",
       "    <tr>\n",
       "      <th>2</th>\n",
       "      <td>37</td>\n",
       "      <td>Yes</td>\n",
       "      <td>Travel_Rarely</td>\n",
       "      <td>1373</td>\n",
       "      <td>Research &amp; Development</td>\n",
       "      <td>2</td>\n",
       "      <td>College</td>\n",
       "      <td>Other</td>\n",
       "      <td>Very High</td>\n",
       "      <td>Male</td>\n",
       "      <td>92</td>\n",
       "      <td>Medium</td>\n",
       "      <td>Laboratory Technician</td>\n",
       "      <td>High</td>\n",
       "      <td>Single</td>\n",
       "      <td>2090</td>\n",
       "      <td>2396</td>\n",
       "      <td>6</td>\n",
       "      <td>Yes</td>\n",
       "      <td>15</td>\n",
       "      <td>Excellent</td>\n",
       "      <td>Medium</td>\n",
       "      <td>0</td>\n",
       "      <td>7</td>\n",
       "      <td>3</td>\n",
       "      <td>Better</td>\n",
       "      <td>0</td>\n",
       "      <td>0</td>\n",
       "      <td>0</td>\n",
       "      <td>0</td>\n",
       "    </tr>\n",
       "  </tbody>\n",
       "</table>\n",
       "</div>"
      ],
      "text/plain": [
       "   Age Attrition     BusinessTravel  DailyRate              Department  \\\n",
       "0   41       Yes      Travel_Rarely       1102                   Sales   \n",
       "1   49        No  Travel_Frequently        279  Research & Development   \n",
       "2   37       Yes      Travel_Rarely       1373  Research & Development   \n",
       "\n",
       "   DistanceFromHome      Education EducationField EnvironmentSatisfaction  \\\n",
       "0                 1        College  Life Sciences                  Medium   \n",
       "1                 8  Below College  Life Sciences                    High   \n",
       "2                 2        College          Other               Very High   \n",
       "\n",
       "   Gender  HourlyRate JobInvolvement                JobRole JobSatisfaction  \\\n",
       "0  Female          94           High        Sales Executive       Very High   \n",
       "1    Male          61         Medium     Research Scientist          Medium   \n",
       "2    Male          92         Medium  Laboratory Technician            High   \n",
       "\n",
       "  MaritalStatus  MonthlyIncome  MonthlyRate  NumCompaniesWorked OverTime  \\\n",
       "0        Single           5993        19479                   8      Yes   \n",
       "1       Married           5130        24907                   1       No   \n",
       "2        Single           2090         2396                   6      Yes   \n",
       "\n",
       "   PercentSalaryHike PerformanceRating RelationshipSatisfaction  \\\n",
       "0                 11         Excellent                      Low   \n",
       "1                 23       Outstanding                Very High   \n",
       "2                 15         Excellent                   Medium   \n",
       "\n",
       "  StockOptionLevel  TotalWorkingYears  TrainingTimesLastYear WorkLifeBalance  \\\n",
       "0                0                  8                      0             Bad   \n",
       "1                1                 10                      3          Better   \n",
       "2                0                  7                      3          Better   \n",
       "\n",
       "   YearsAtCompany  YearsInCurrentRole  YearsSinceLastPromotion  \\\n",
       "0               6                   4                        0   \n",
       "1              10                   7                        1   \n",
       "2               0                   0                        0   \n",
       "\n",
       "   YearsWithCurrManager  \n",
       "0                     5  \n",
       "1                     7  \n",
       "2                     0  "
      ]
     },
     "execution_count": 14,
     "metadata": {},
     "output_type": "execute_result"
    }
   ],
   "source": [
    "hr_desc.head(3)"
   ]
  },
  {
   "cell_type": "code",
   "execution_count": 15,
   "metadata": {
    "collapsed": true
   },
   "outputs": [],
   "source": [
    "del_col = ['DailyRate','MonthlyRate','HourlyRate'] # deleting dailyrate,monthly rate and hourly rate columns \n",
    "hr_desc = hr_desc.drop(hr_desc[del_col],axis=1) "
   ]
  },
  {
   "cell_type": "markdown",
   "metadata": {},
   "source": [
    "###  Pandas has a function which can turn a categorical variable into a series of zeros and ones, which makes\n",
    "### them a lot easier to quantify and compare.(get_dummies)"
   ]
  },
  {
   "cell_type": "code",
   "execution_count": 16,
   "metadata": {
    "collapsed": true
   },
   "outputs": [],
   "source": [
    "# creating dummies for cat columns   -- one hot encoding  \n",
    "for var in cat_var:\n",
    "    cat_list = 'var' + '_' +var\n",
    "    cat_list = pd.get_dummies(hr_desc[var],prefix=var)\n",
    "    hr1 =hr_desc.join(cat_list)\n",
    "    hr_desc = hr1"
   ]
  },
  {
   "cell_type": "code",
   "execution_count": 17,
   "metadata": {},
   "outputs": [
    {
     "name": "stdout",
     "output_type": "stream",
     "text": [
      "86\n",
      "71\n"
     ]
    },
    {
     "name": "stderr",
     "output_type": "stream",
     "text": [
      "C:\\Users\\Suhasini\\Anaconda3\\lib\\site-packages\\pandas\\core\\generic.py:3110: SettingWithCopyWarning: \n",
      "A value is trying to be set on a copy of a slice from a DataFrame.\n",
      "Try using .loc[row_indexer,col_indexer] = value instead\n",
      "\n",
      "See the caveats in the documentation: http://pandas.pydata.org/pandas-docs/stable/indexing.html#indexing-view-versus-copy\n",
      "  self[name] = value\n"
     ]
    }
   ],
   "source": [
    "# creating a list of variables\n",
    "hr_vars=hr_desc.columns.values.tolist()\n",
    "to_keep=[i for i in hr_vars if i not in cat_var]\n",
    "print(len(hr_vars))\n",
    "print(len(to_keep))\n",
    "hr_final = hr_desc[to_keep] ## 18 columns dropped as dummies were created for them..\n",
    "hr_final_vars = hr_final.columns.values.tolist() # creating a list of final variables\n",
    "hr_final.Attrition = hr_final.Attrition.cat.codes"
   ]
  },
  {
   "cell_type": "code",
   "execution_count": 18,
   "metadata": {
    "collapsed": true
   },
   "outputs": [],
   "source": [
    "y = hr_final['Attrition']"
   ]
  },
  {
   "cell_type": "code",
   "execution_count": 19,
   "metadata": {
    "collapsed": true
   },
   "outputs": [],
   "source": [
    "X = hr_final.drop('Attrition',axis=1) # excluding the target variable Attrition - 70 columns"
   ]
  },
  {
   "cell_type": "markdown",
   "metadata": {},
   "source": [
    "### normalizing the data before feature selection"
   ]
  },
  {
   "cell_type": "markdown",
   "metadata": {
    "collapsed": true
   },
   "source": [
    "### using preprocessing package and Mix Max scaler method"
   ]
  },
  {
   "cell_type": "code",
   "execution_count": 20,
   "metadata": {
    "collapsed": true
   },
   "outputs": [],
   "source": [
    "min_max_scaler = preprocessing.MinMaxScaler()"
   ]
  },
  {
   "cell_type": "code",
   "execution_count": 21,
   "metadata": {
    "collapsed": true
   },
   "outputs": [],
   "source": [
    "X_scaled = min_max_scaler.fit_transform(X)"
   ]
  },
  {
   "cell_type": "code",
   "execution_count": 22,
   "metadata": {
    "collapsed": true
   },
   "outputs": [],
   "source": [
    "df_scaled = pandas.DataFrame(X_scaled)"
   ]
  },
  {
   "cell_type": "code",
   "execution_count": 23,
   "metadata": {
    "collapsed": true
   },
   "outputs": [],
   "source": [
    "df_scaled.columns = X.columns\n"
   ]
  },
  {
   "cell_type": "code",
   "execution_count": 24,
   "metadata": {},
   "outputs": [
    {
     "data": {
      "text/plain": [
       "70"
      ]
     },
     "execution_count": 24,
     "metadata": {},
     "output_type": "execute_result"
    }
   ],
   "source": [
    "len(df_scaled.columns)"
   ]
  },
  {
   "cell_type": "code",
   "execution_count": 25,
   "metadata": {
    "collapsed": true
   },
   "outputs": [],
   "source": [
    "X_train, X_test, y_train, y_test = train_test_split(X_scaled, y ,test_size = .3,random_state=12) ### train test split the data first"
   ]
  },
  {
   "cell_type": "markdown",
   "metadata": {},
   "source": [
    "### Feature Selection\n",
    "### Recursive Feature Elimination (RFE) is based on the idea to repeatedly construct a model and\n",
    "### choose either the best or worst performing feature, setting the feature aside and then repeating\n",
    "### the process with the rest of the features. This process is applied until all features in the dataset are exhausted.\n",
    "### The goal of RFE is to select features by recursively considering smaller and smaller sets of features."
   ]
  },
  {
   "cell_type": "code",
   "execution_count": 26,
   "metadata": {},
   "outputs": [
    {
     "name": "stdout",
     "output_type": "stream",
     "text": [
      "[ True  True  True  True  True  True  True  True  True  True  True  True\n",
      "  True False False  True False False False False False False False  True\n",
      " False  True False  True  True  True False  True  True  True False  True\n",
      "  True False False False  True False False False  True  True  True False\n",
      "  True False  True False False False  True False False False  True  True\n",
      " False  True  True False  True  True  True  True False  True]\n",
      "[ 1  1  1  1  1  1  1  1  1  1  1  1  1  7 26  1 10 13 16 14 17  5 25  1  2\n",
      "  1 31  1  1  1 24  1  1  1 12  1  1 18  3 20  1 22 23  6  1  1  1  9  1 27\n",
      "  1  8 30  4  1 28 29 21  1  1 15  1  1 19  1  1  1  1 11  1]\n"
     ]
    }
   ],
   "source": [
    "xgb = XGBClassifier(n_estimators=100,learning_rate=0.1) ### instantiating a log reg classifier\n",
    "rfe = RFE(xgb,n_features_to_select=40,step=1)     \n",
    "rfe = rfe.fit(X_scaled , y)\n",
    "print(rfe.support_) ### the features selected by RFE\n",
    "print(rfe.ranking_) ### ranking for various features"
   ]
  },
  {
   "cell_type": "code",
   "execution_count": 27,
   "metadata": {},
   "outputs": [
    {
     "data": {
      "text/plain": [
       "40"
      ]
     },
     "execution_count": 27,
     "metadata": {},
     "output_type": "execute_result"
    }
   ],
   "source": [
    "rfe.n_features_"
   ]
  },
  {
   "cell_type": "code",
   "execution_count": 28,
   "metadata": {
    "collapsed": true
   },
   "outputs": [],
   "source": [
    "### find the columns which has high ranking.... \n",
    "cols = df_scaled.loc[:,rfe.support_].columns.tolist()\n",
    "X = df_scaled[cols]   ### selected features of the model\n"
   ]
  },
  {
   "cell_type": "code",
   "execution_count": 29,
   "metadata": {},
   "outputs": [
    {
     "data": {
      "text/plain": [
       "40"
      ]
     },
     "execution_count": 29,
     "metadata": {},
     "output_type": "execute_result"
    }
   ],
   "source": [
    "len(X.columns)"
   ]
  },
  {
   "cell_type": "code",
   "execution_count": 30,
   "metadata": {
    "collapsed": true
   },
   "outputs": [],
   "source": [
    "X_train, X_test, y_train, y_test = train_test_split(X, y ,test_size = .3,random_state=12)"
   ]
  },
  {
   "cell_type": "markdown",
   "metadata": {
    "collapsed": true
   },
   "source": [
    "### upsampling technique"
   ]
  },
  {
   "cell_type": "code",
   "execution_count": 31,
   "metadata": {},
   "outputs": [
    {
     "name": "stdout",
     "output_type": "stream",
     "text": [
      "Original dataset shape Counter({0: 1233, 1: 237})\n"
     ]
    }
   ],
   "source": [
    "print('Original dataset shape {}'.format(Counter(y)))"
   ]
  },
  {
   "cell_type": "code",
   "execution_count": 32,
   "metadata": {},
   "outputs": [
    {
     "name": "stderr",
     "output_type": "stream",
     "text": [
      "C:\\Users\\Suhasini\\Anaconda3\\lib\\site-packages\\ipykernel_launcher.py:2: SettingWithCopyWarning: \n",
      "A value is trying to be set on a copy of a slice from a DataFrame.\n",
      "Try using .loc[row_indexer,col_indexer] = value instead\n",
      "\n",
      "See the caveats in the documentation: http://pandas.pydata.org/pandas-docs/stable/indexing.html#indexing-view-versus-copy\n",
      "  \n"
     ]
    }
   ],
   "source": [
    "train_data = X_train\n",
    "train_data['Attrition'] = y_train"
   ]
  },
  {
   "cell_type": "code",
   "execution_count": 33,
   "metadata": {},
   "outputs": [
    {
     "data": {
      "text/plain": [
       "863"
      ]
     },
     "execution_count": 33,
     "metadata": {},
     "output_type": "execute_result"
    }
   ],
   "source": [
    "len(train_data[train_data.Attrition == 0])"
   ]
  },
  {
   "cell_type": "code",
   "execution_count": 34,
   "metadata": {},
   "outputs": [
    {
     "name": "stdout",
     "output_type": "stream",
     "text": [
      "upsampled data   : 1    863\n",
      "0    863\n",
      "Name: Attrition, dtype: int64\n"
     ]
    }
   ],
   "source": [
    "### train_data needs to be upsampled...\n",
    "\n",
    "train_data_majority = train_data[train_data.Attrition == 0]\n",
    "train_data_minority = train_data[train_data.Attrition==1]\n",
    "\n",
    "\n",
    "\n",
    "# Upsample minority class\n",
    "train_data_minority_upsampled = resample(train_data_minority, \n",
    "                                 replace=True,     # sample with replacement\n",
    "                                 n_samples=863,    # to match majority class\n",
    "                                 random_state=123) # reproducible results\n",
    "\n",
    "# Combine majority class with upsampled minority class\n",
    "train_upsampled = pd.concat([train_data_majority, train_data_minority_upsampled])\n",
    "\n",
    "train_upsampled.Attrition.value_counts()\n",
    "\n",
    "print(\"upsampled data   :\" , train_upsampled.Attrition.value_counts())\n",
    "\n",
    "### split the training set again\n",
    "# Separate input features (X) and target variable (y)\n",
    "X_train = train_upsampled.drop('Attrition' , axis=1)\n",
    "y_train = train_upsampled.Attrition\n"
   ]
  },
  {
   "cell_type": "code",
   "execution_count": 35,
   "metadata": {},
   "outputs": [
    {
     "data": {
      "text/plain": [
       "Index(['Age', 'DistanceFromHome', 'MonthlyIncome', 'NumCompaniesWorked',\n",
       "       'PercentSalaryHike', 'TotalWorkingYears', 'TrainingTimesLastYear',\n",
       "       'YearsAtCompany', 'YearsInCurrentRole', 'YearsSinceLastPromotion',\n",
       "       'YearsWithCurrManager', 'BusinessTravel_Non-Travel',\n",
       "       'BusinessTravel_Travel_Frequently', 'Department_Research & Development',\n",
       "       'EducationField_Life Sciences', 'EducationField_Medical',\n",
       "       'EducationField_Technical Degree', 'EnvironmentSatisfaction_High',\n",
       "       'EnvironmentSatisfaction_Low', 'EnvironmentSatisfaction_Very High',\n",
       "       'JobInvolvement_High', 'JobInvolvement_Low', 'JobInvolvement_Very High',\n",
       "       'Gender_Female', 'JobRole_Laboratory Technician',\n",
       "       'JobRole_Research Scientist', 'JobRole_Sales Executive',\n",
       "       'JobRole_Sales Representative', 'JobSatisfaction_Low',\n",
       "       'JobSatisfaction_Very High', 'OverTime_No',\n",
       "       'RelationshipSatisfaction_High', 'RelationshipSatisfaction_Low',\n",
       "       'RelationshipSatisfaction_Very High', 'WorkLifeBalance_Bad',\n",
       "       'WorkLifeBalance_Better', 'WorkLifeBalance_Good', 'StockOptionLevel_0',\n",
       "       'StockOptionLevel_1', 'StockOptionLevel_3'],\n",
       "      dtype='object')"
      ]
     },
     "execution_count": 35,
     "metadata": {},
     "output_type": "execute_result"
    }
   ],
   "source": [
    "X_train.columns ### after upsampling"
   ]
  },
  {
   "cell_type": "code",
   "execution_count": 36,
   "metadata": {
    "collapsed": true
   },
   "outputs": [],
   "source": [
    "# function to evaluate cross validation score for various models\n",
    "def cross_val_fn(model):\n",
    "    kFold = model_selection.KFold(n_splits=10,random_state=10)\n",
    "    scoring = 'accuracy'\n",
    "    cross_val_results = cross_val_score(model,X_train,y_train,cv =kFold,scoring=scoring)\n",
    "    return cross_val_results"
   ]
  },
  {
   "cell_type": "code",
   "execution_count": 44,
   "metadata": {},
   "outputs": [
    {
     "name": "stdout",
     "output_type": "stream",
     "text": [
      "---------------------------------------------------\n",
      "Accuracy of Xtreme Gradient Boosting classifier on test set : 0.84\n",
      "Evaluate Xtreme Gradient Boosting  model : 0.836734693878\n",
      "Cross Validation Score - 10 Fold    :  0.88\n",
      "             precision    recall  f1-score   support\n",
      "\n",
      "          0       0.91      0.89      0.90       370\n",
      "          1       0.49      0.55      0.52        71\n",
      "\n",
      "avg / total       0.84      0.84      0.84       441\n",
      "\n"
     ]
    },
    {
     "data": {
      "image/png": "[encoded data removed]",
      "text/plain": [
       "<matplotlib.figure.Figure at 0x261c311fe48>"
      ]
     },
     "metadata": {},
     "output_type": "display_data"
    }
   ],
   "source": [
    "xgb  = XGBClassifier(n_estimators=100,learning_rate=0.1)\n",
    "xgb_model = xgb.fit(X_train,y_train)\n",
    "y_pred = xgb.predict(X_test)\n",
    "    \n",
    "accuracy = round(xgb.score(X_test,y_test),2)\n",
    "accu_score = accuracy_score(y_test,y_pred)\n",
    "class_report = classification_report(y_test,y_pred)\n",
    "    \n",
    "print(\"---------------------------------------------------\")\n",
    "print('Accuracy of Xtreme Gradient Boosting classifier on test set : {:.2f}'.format(xgb.score(X_test,y_test)))\n",
    "print(\"Evaluate Xtreme Gradient Boosting  model :\" ,accuracy_score(y_test,y_pred))\n",
    "print(\"Cross Validation Score - 10 Fold    : \" , round((cross_val_fn(xgb).mean()),2) )\n",
    "print(classification_report(y_test,y_pred))\n",
    "\n",
    "xgb_roc_auc = roc_auc_score(y_test, xgb.predict(X_test))\n",
    "fpr, tpr, thresholds = roc_curve(y_test, xgb.predict_proba(X_test)[:,1])\n",
    "plt.figure()\n",
    "plt.plot(fpr, tpr, label='XG Boost area = %0.2f)' % xgb_roc_auc)\n",
    "plt.plot([0, 1], [0, 1],'r--')\n",
    "plt.xlim([0.0, 1.0])\n",
    "plt.ylim([0.0, 1.05])\n",
    "plt.xlabel('False Positive Rate')\n",
    "plt.ylabel('True Positive Rate')\n",
    "plt.title('Receiver operating characteristic')\n",
    "plt.legend(loc=\"lower right\")\n",
    "plt.savefig('xgb_ROC')\n",
    "plt.show()\n",
    "\n",
    "  \n",
    "       "
   ]
  },
  {
   "cell_type": "code",
   "execution_count": 45,
   "metadata": {},
   "outputs": [
    {
     "name": "stdout",
     "output_type": "stream",
     "text": [
      "ROC-AUC for train and test distributions: 0.72059383327\n"
     ]
    }
   ],
   "source": [
    "print(\"ROC-AUC for train and test distributions:\",roc_auc_score(y_test, xgb.predict(X_test)))"
   ]
  },
  {
   "cell_type": "code",
   "execution_count": 47,
   "metadata": {},
   "outputs": [
    {
     "name": "stdout",
     "output_type": "stream",
     "text": [
      "0.422849253925\n"
     ]
    }
   ],
   "source": [
    "print(matthews_corrcoef(y_test,y_pred))"
   ]
  },
  {
   "cell_type": "code",
   "execution_count": 48,
   "metadata": {},
   "outputs": [
    {
     "data": {
      "text/plain": [
       "0.80475827940616673"
      ]
     },
     "execution_count": 48,
     "metadata": {},
     "output_type": "execute_result"
    }
   ],
   "source": [
    "y_pred_proba = xgb.predict_proba(X_test)[:,1]\n",
    "roc_auc_score(y_test,y_pred_proba)"
   ]
  },
  {
   "cell_type": "code",
   "execution_count": 49,
   "metadata": {},
   "outputs": [
    {
     "name": "stdout",
     "output_type": "stream",
     "text": [
      "[ 0.96037288  0.94410104  0.97347055  0.94774202  0.96934154]\n"
     ]
    }
   ],
   "source": [
    "cv_scores = cross_val_score(xgb,X_train,y_train,cv=5,scoring='roc_auc')\n",
    "print(cv_scores)"
   ]
  },
  {
   "cell_type": "markdown",
   "metadata": {},
   "source": [
    "## Unlike the other metrics discussed above, MCC takes all the cells of the Confusion Matrix into consideration in its formula.\n",
    "## MCC = TP * TN – FP * FN / √ (TP +FP) * (TP + FN) * (TN + FP) * (TN + FN)\n",
    "## Similar to Correlation Coefficient, the range of values of MCC lie between -1 to +1"
   ]
  },
  {
   "cell_type": "markdown",
   "metadata": {},
   "source": [
    "The Matthews correlation coefficient is used in machine learning as a measure of the quality \n",
    "of binary (two-class) classifications. It takes into account true and false positives and \n",
    "negatives and is generally regarded as a balanced measure which can be used even if the classes \n",
    "are of very different sizes. The MCC is in essence a correlation coefficient value between -1 and +1.\n",
    "A coefficient of +1 represents a perfect prediction,\n",
    "0 an average random prediction and -1 an inverse prediction. "
   ]
  },
  {
   "cell_type": "code",
   "execution_count": null,
   "metadata": {
    "collapsed": true
   },
   "outputs": [],
   "source": [
    "### xgboost classifier gives a model accuracy of 84%"
   ]
  },
  {
   "cell_type": "code",
   "execution_count": null,
   "metadata": {
    "collapsed": true
   },
   "outputs": [],
   "source": []
  }
 ],
 "metadata": {
  "kernelspec": {
   "display_name": "Python 3",
   "language": "python",
   "name": "python3"
  },
  "language_info": {
   "codemirror_mode": {
    "name": "ipython",
    "version": 3
   },
   "file_extension": ".py",
   "mimetype": "text/x-python",
   "name": "python",
   "nbconvert_exporter": "python",
   "pygments_lexer": "ipython3",
   "version": "3.6.2"
  }
 },
 "nbformat": 4,
 "nbformat_minor": 2
}
